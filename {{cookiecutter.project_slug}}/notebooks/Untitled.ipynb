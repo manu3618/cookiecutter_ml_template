{
 "cells": [
  {
   "cell_type": "code",
   "execution_count": null,
   "id": "874e84b7-b151-4b5c-9f62-c6d6717d9095",
   "metadata": {},
   "outputs": [],
   "source": [
    "from {{cookiecutter.project_slug}}.train import *"
   ]
  },
  {
   "cell_type": "code",
   "execution_count": null,
   "id": "9cee0545-81ff-479b-8177-a347b0f34bfe",
   "metadata": {},
   "outputs": [],
   "source": []
  }
 ],
 "metadata": {
  "kernelspec": {
   "display_name": "Python 3 (ipykernel)",
   "language": "python",
   "name": "python3"
  },
  "language_info": {
   "codemirror_mode": {
    "name": "ipython",
    "version": 3
   },
   "file_extension": ".py",
   "mimetype": "text/x-python",
   "name": "python",
   "nbconvert_exporter": "python",
   "pygments_lexer": "ipython3",
   "version": "3.12.4"
  }
 },
 "nbformat": 4,
 "nbformat_minor": 5
}
